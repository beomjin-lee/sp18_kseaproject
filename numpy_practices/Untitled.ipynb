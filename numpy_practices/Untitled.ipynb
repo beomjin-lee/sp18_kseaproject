{
 "cells": [
  {
   "cell_type": "code",
   "execution_count": 1,
   "metadata": {},
   "outputs": [
    {
     "data": {
      "text/plain": [
       "2"
      ]
     },
     "execution_count": 1,
     "metadata": {},
     "output_type": "execute_result"
    }
   ],
   "source": [
    "1+1"
   ]
  },
  {
   "cell_type": "code",
   "execution_count": 2,
   "metadata": {},
   "outputs": [
    {
     "data": {
      "text/plain": [
       "0.5"
      ]
     },
     "execution_count": 2,
     "metadata": {},
     "output_type": "execute_result"
    }
   ],
   "source": [
    "1/2"
   ]
  },
  {
   "cell_type": "code",
   "execution_count": 3,
   "metadata": {},
   "outputs": [
    {
     "ename": "SyntaxError",
     "evalue": "invalid syntax (<ipython-input-3-332cc9d52e12>, line 18)",
     "output_type": "error",
     "traceback": [
      "\u001b[0;36m  File \u001b[0;32m\"<ipython-input-3-332cc9d52e12>\"\u001b[0;36m, line \u001b[0;32m18\u001b[0m\n\u001b[0;31m    <type 'numpy.ndarray'>\u001b[0m\n\u001b[0m    ^\u001b[0m\n\u001b[0;31mSyntaxError\u001b[0m\u001b[0;31m:\u001b[0m invalid syntax\n"
     ]
    }
   ],
   "source": [
    ">>>import numpy as np\n",
    ">>> a = np.arange(15).reshape(3, 5)\n",
    ">>> a\n",
    "array([[ 0,  1,  2,  3,  4],\n",
    "       [ 5,  6,  7,  8,  9],\n",
    "       [10, 11, 12, 13, 14]])\n",
    ">>> a.shape\n",
    "(3, 5)\n",
    ">>> a.ndim\n",
    "2\n",
    ">>> a.dtype.name\n",
    "'int64'\n",
    ">>> a.itemsize\n",
    "8\n",
    ">>> a.size\n",
    "15\n",
    ">>> type(a)\n",
    "<type 'numpy.ndarray'>\n",
    ">>> b = np.array([6, 7, 8])\n",
    ">>> b\n",
    "array([6, 7, 8])\n",
    ">>> type(b)\n",
    "<type 'numpy.ndarray'>"
   ]
  },
  {
   "cell_type": "code",
   "execution_count": 4,
   "metadata": {},
   "outputs": [
    {
     "ename": "SyntaxError",
     "evalue": "invalid syntax (<ipython-input-4-332cc9d52e12>, line 18)",
     "output_type": "error",
     "traceback": [
      "\u001b[0;36m  File \u001b[0;32m\"<ipython-input-4-332cc9d52e12>\"\u001b[0;36m, line \u001b[0;32m18\u001b[0m\n\u001b[0;31m    <type 'numpy.ndarray'>\u001b[0m\n\u001b[0m    ^\u001b[0m\n\u001b[0;31mSyntaxError\u001b[0m\u001b[0;31m:\u001b[0m invalid syntax\n"
     ]
    }
   ],
   "source": [
    ">>> import numpy as np\n",
    ">>> a = np.arange(15).reshape(3, 5)\n",
    ">>> a\n",
    "array([[ 0,  1,  2,  3,  4],\n",
    "       [ 5,  6,  7,  8,  9],\n",
    "       [10, 11, 12, 13, 14]])\n",
    ">>> a.shape\n",
    "(3, 5)\n",
    ">>> a.ndim\n",
    "2\n",
    ">>> a.dtype.name\n",
    "'int64'\n",
    ">>> a.itemsize\n",
    "8\n",
    ">>> a.size\n",
    "15\n",
    ">>> type(a)\n",
    "<type 'numpy.ndarray'>\n",
    ">>> b = np.array([6, 7, 8])\n",
    ">>> b\n",
    "array([6, 7, 8])\n",
    ">>> type(b)\n",
    "<type 'numpy.ndarray'>"
   ]
  },
  {
   "cell_type": "code",
   "execution_count": 5,
   "metadata": {
    "collapsed": true
   },
   "outputs": [],
   "source": [
    "import numpy as np"
   ]
  },
  {
   "cell_type": "code",
   "execution_count": 6,
   "metadata": {},
   "outputs": [
    {
     "data": {
      "text/plain": [
       "array([[ 0,  1,  2,  3,  4],\n",
       "       [ 5,  6,  7,  8,  9],\n",
       "       [10, 11, 12, 13, 14]])"
      ]
     },
     "execution_count": 6,
     "metadata": {},
     "output_type": "execute_result"
    }
   ],
   "source": [
    "a = np.arange(15).reshape(3,5)\n",
    "a"
   ]
  },
  {
   "cell_type": "code",
   "execution_count": 7,
   "metadata": {},
   "outputs": [
    {
     "data": {
      "text/plain": [
       "(3, 5)"
      ]
     },
     "execution_count": 7,
     "metadata": {},
     "output_type": "execute_result"
    }
   ],
   "source": [
    "a.shape"
   ]
  },
  {
   "cell_type": "code",
   "execution_count": 8,
   "metadata": {},
   "outputs": [
    {
     "data": {
      "text/plain": [
       "2"
      ]
     },
     "execution_count": 8,
     "metadata": {},
     "output_type": "execute_result"
    }
   ],
   "source": [
    "a.ndim"
   ]
  },
  {
   "cell_type": "code",
   "execution_count": null,
   "metadata": {
    "collapsed": true
   },
   "outputs": [],
   "source": []
  }
 ],
 "metadata": {
  "kernelspec": {
   "display_name": "Python 3",
   "language": "python",
   "name": "python3"
  },
  "language_info": {
   "codemirror_mode": {
    "name": "ipython",
    "version": 3
   },
   "file_extension": ".py",
   "mimetype": "text/x-python",
   "name": "python",
   "nbconvert_exporter": "python",
   "pygments_lexer": "ipython3",
   "version": "3.6.3"
  }
 },
 "nbformat": 4,
 "nbformat_minor": 2
}
